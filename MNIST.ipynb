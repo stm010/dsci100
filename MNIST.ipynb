{
  "nbformat": 4,
  "nbformat_minor": 0,
  "metadata": {
    "colab": {
      "provenance": [],
      "authorship_tag": "ABX9TyOmZu1v48ZTB9NhiyC6cKfo",
      "include_colab_link": true
    },
    "kernelspec": {
      "name": "python3",
      "display_name": "Python 3"
    },
    "language_info": {
      "name": "python"
    }
  },
  "cells": [
    {
      "cell_type": "markdown",
      "metadata": {
        "id": "view-in-github",
        "colab_type": "text"
      },
      "source": [
        "<a href=\"https://colab.research.google.com/github/stm010/dsci100/blob/main/MNIST.ipynb\" target=\"_parent\"><img src=\"https://colab.research.google.com/assets/colab-badge.svg\" alt=\"Open In Colab\"/></a>"
      ]
    },
    {
      "cell_type": "code",
      "execution_count": 14,
      "metadata": {
        "colab": {
          "base_uri": "https://localhost:8080/"
        },
        "id": "0H5XVgkQvUGX",
        "outputId": "578e2617-a7b7-45d8-e29e-6373542340b1"
      },
      "outputs": [
        {
          "output_type": "stream",
          "name": "stdout",
          "text": [
            "Path to dataset files: /kaggle/input/mnist-dataset\n",
            "t10k-labels-idx1-ubyte\n",
            "train-images.idx3-ubyte\n",
            "t10k-images-idx3-ubyte\n",
            "t10k-labels.idx1-ubyte\n",
            "t10k-images.idx3-ubyte\n",
            "train-labels.idx1-ubyte\n",
            "train-labels-idx1-ubyte\n",
            "train-images-idx3-ubyte\n"
          ]
        }
      ],
      "source": [
        "import kagglehub\n",
        "\n",
        "# Download latest version\n",
        "path = kagglehub.dataset_download(\"hojjatk/mnist-dataset\")\n",
        "\n",
        "print(\"Path to dataset files:\", path)\n",
        "\n",
        "import os\n",
        "\n",
        "# List all files and directories in the path\n",
        "file_list = os.listdir(path)\n",
        "\n",
        "# Print the file names\n",
        "for file_name in file_list:\n",
        "    print(file_name)\n"
      ]
    },
    {
      "cell_type": "code",
      "source": [
        "import matplotlib.pyplot as plt\n",
        "import numpy as np\n",
        "\n",
        "# Assuming your data is loaded into a variable called 'X' and labels in 'y'\n",
        "# X and y can be loaded from the downloaded files using numpy.load\n",
        "# Example: X = np.load(path + '/mnist_X.npy')\n",
        "# Example: y = np.load(path + '/mnist_y.npy')\n",
        "\n",
        "plt.figure(figsize=(10, 5))\n",
        "for i in range(10):\n",
        "    plt.subplot(2, 5, i + 1)\n",
        "    plt.imshow(X[i].reshape(28, 28), cmap='gray')\n",
        "    plt.title(f\"Label: {y[i]}\")\n",
        "    plt.axis('off')\n",
        "plt.show()"
      ],
      "metadata": {
        "colab": {
          "base_uri": "https://localhost:8080/",
          "height": 441
        },
        "id": "YydAYxx0v007",
        "outputId": "847e8d16-690b-4cea-8f1e-849c9c77efb0"
      },
      "execution_count": 16,
      "outputs": [
        {
          "output_type": "error",
          "ename": "NameError",
          "evalue": "name 'X' is not defined",
          "traceback": [
            "\u001b[0;31m---------------------------------------------------------------------------\u001b[0m",
            "\u001b[0;31mNameError\u001b[0m                                 Traceback (most recent call last)",
            "\u001b[0;32m<ipython-input-16-56ce69b498c8>\u001b[0m in \u001b[0;36m<cell line: 0>\u001b[0;34m()\u001b[0m\n\u001b[1;32m     10\u001b[0m \u001b[0;32mfor\u001b[0m \u001b[0mi\u001b[0m \u001b[0;32min\u001b[0m \u001b[0mrange\u001b[0m\u001b[0;34m(\u001b[0m\u001b[0;36m10\u001b[0m\u001b[0;34m)\u001b[0m\u001b[0;34m:\u001b[0m\u001b[0;34m\u001b[0m\u001b[0;34m\u001b[0m\u001b[0m\n\u001b[1;32m     11\u001b[0m     \u001b[0mplt\u001b[0m\u001b[0;34m.\u001b[0m\u001b[0msubplot\u001b[0m\u001b[0;34m(\u001b[0m\u001b[0;36m2\u001b[0m\u001b[0;34m,\u001b[0m \u001b[0;36m5\u001b[0m\u001b[0;34m,\u001b[0m \u001b[0mi\u001b[0m \u001b[0;34m+\u001b[0m \u001b[0;36m1\u001b[0m\u001b[0;34m)\u001b[0m\u001b[0;34m\u001b[0m\u001b[0;34m\u001b[0m\u001b[0m\n\u001b[0;32m---> 12\u001b[0;31m     \u001b[0mplt\u001b[0m\u001b[0;34m.\u001b[0m\u001b[0mimshow\u001b[0m\u001b[0;34m(\u001b[0m\u001b[0mX\u001b[0m\u001b[0;34m[\u001b[0m\u001b[0mi\u001b[0m\u001b[0;34m]\u001b[0m\u001b[0;34m.\u001b[0m\u001b[0mreshape\u001b[0m\u001b[0;34m(\u001b[0m\u001b[0;36m28\u001b[0m\u001b[0;34m,\u001b[0m \u001b[0;36m28\u001b[0m\u001b[0;34m)\u001b[0m\u001b[0;34m,\u001b[0m \u001b[0mcmap\u001b[0m\u001b[0;34m=\u001b[0m\u001b[0;34m'gray'\u001b[0m\u001b[0;34m)\u001b[0m\u001b[0;34m\u001b[0m\u001b[0;34m\u001b[0m\u001b[0m\n\u001b[0m\u001b[1;32m     13\u001b[0m     \u001b[0mplt\u001b[0m\u001b[0;34m.\u001b[0m\u001b[0mtitle\u001b[0m\u001b[0;34m(\u001b[0m\u001b[0;34mf\"Label: {y[i]}\"\u001b[0m\u001b[0;34m)\u001b[0m\u001b[0;34m\u001b[0m\u001b[0;34m\u001b[0m\u001b[0m\n\u001b[1;32m     14\u001b[0m     \u001b[0mplt\u001b[0m\u001b[0;34m.\u001b[0m\u001b[0maxis\u001b[0m\u001b[0;34m(\u001b[0m\u001b[0;34m'off'\u001b[0m\u001b[0;34m)\u001b[0m\u001b[0;34m\u001b[0m\u001b[0;34m\u001b[0m\u001b[0m\n",
            "\u001b[0;31mNameError\u001b[0m: name 'X' is not defined"
          ]
        },
        {
          "output_type": "display_data",
          "data": {
            "text/plain": [
              "<Figure size 1000x500 with 1 Axes>"
            ],
            "image/png": "[encoded data removed]"
          },
          "metadata": {}
        }
      ]
    },
    {
      "cell_type": "code",
      "source": [
        "filter_indices = np.where((y == 1) | (y == 7))[0]\n",
        "X_filtered = X[filter_indices]\n",
        "y_filtered = y[filter_indices]\n",
        "\n",
        "# Now, y_filtered contains only 1s and 7s.\n",
        "# Repeat step 2 with X_filtered and y_filtered to confirm."
      ],
      "metadata": {
        "id": "7wYGTjnhv6H5"
      },
      "execution_count": null,
      "outputs": []
    },
    {
      "cell_type": "code",
      "source": [
        "from sklearn.model_selection import train_test_split, KFold\n",
        "from sklearn.metrics import accuracy_score\n",
        "# Assuming you have the rbf_interpolation function defined\n",
        "\n",
        "# Split into train, validation, and test sets\n",
        "X_train_val, X_test, y_train_val, y_test = train_test_split(\n",
        "    X_filtered, y_filtered, test_size=0.2, random_state=42\n",
        ")\n",
        "X_train, X_val, y_train, y_val = train_test_split(\n",
        "    X_train_val, y_train_val, test_size=0.25, random_state=42\n",
        ")\n",
        "\n",
        "# Define lambda and epsilon ranges to try\n",
        "lambdas = [0.01, 0.1, 1, 10]  # Example values\n",
        "epsilons = [0.1, 1, 10]      # Example values\n",
        "\n",
        "best_lambda, best_epsilon, best_accuracy = 0, 0, 0\n",
        "\n",
        "# K-fold cross-validation (e.g., with k=5)\n",
        "kf = KFold(n_splits=5)\n",
        "for lam in lambdas:\n",
        "    for eps in epsilons:\n",
        "        # ... (Perform cross-validation, train the model with current\n",
        "        #     lambda and epsilon on training folds, evaluate on validation fold,\n",
        "        #     update best_lambda, best_epsilon, best_accuracy if needed) ...\n",
        "\n",
        "# Train the final model using the best hyperparameters\n",
        "final_model = rbf_interpolation(X_train, y_train, best_lambda, best_epsilon)\n",
        "\n",
        "# Evaluate on the test set\n",
        "y_pred = final_model.predict(X_test)\n",
        "test_accuracy = accuracy_score(y_test, y_pred)\n",
        "print(f\"Test Accuracy: {test_accuracy}\")"
      ],
      "metadata": {
        "id": "Rgaeqz2gv7ae"
      },
      "execution_count": null,
      "outputs": []
    },
    {
      "cell_type": "code",
      "source": [
        "# Assuming you have predictions in y_pred\n",
        "# ... (Select some indices for plotting, including correct and incorrect ones) ...\n",
        "plt.figure(figsize=(12, 6))\n",
        "for i, index in enumerate(selected_indices):\n",
        "    plt.subplot(2, 5, i + 1)\n",
        "    plt.imshow(X_test[index].reshape(28, 28), cmap='gray')\n",
        "    plt.title(f\"True: {y_test[index]}, Predicted: {y_pred[index]}\")\n",
        "    plt.axis('off')\n",
        "plt.show()"
      ],
      "metadata": {
        "id": "mGe6BxuPv-rE"
      },
      "execution_count": null,
      "outputs": []
    }
  ]
}