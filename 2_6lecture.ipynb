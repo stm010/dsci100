{
  "nbformat": 4,
  "nbformat_minor": 0,
  "metadata": {
    "colab": {
      "provenance": [],
      "authorship_tag": "ABX9TyPZI4RfGaM/GIu0MeIRyFLi",
      "include_colab_link": true
    },
    "kernelspec": {
      "name": "python3",
      "display_name": "Python 3"
    },
    "language_info": {
      "name": "python"
    }
  },
  "cells": [
    {
      "cell_type": "markdown",
      "metadata": {
        "id": "view-in-github",
        "colab_type": "text"
      },
      "source": [
        "<a href=\"https://colab.research.google.com/github/stm010/dsci100/blob/main/2_6lecture.ipynb\" target=\"_parent\"><img src=\"https://colab.research.google.com/assets/colab-badge.svg\" alt=\"Open In Colab\"/></a>"
      ]
    },
    {
      "cell_type": "code",
      "execution_count": 1,
      "metadata": {
        "id": "SHO1aR6Z9mDJ"
      },
      "outputs": [],
      "source": [
        "import matplotlib.pyplot as plt\n",
        "import numpy as np"
      ]
    },
    {
      "cell_type": "code",
      "source": [
        "# data\n",
        "x = np.array([1,2,3,4.0])\n",
        "y = np.array([1.0,4,9,16])\n",
        "# np.array turns list -> numpi vector (can multiply, transpose, etc.)\n",
        "\n",
        "# setup matrix\n",
        "A = np.vstack((x, np.ones(len(x)))).T # design matrix (transpose)\n",
        "b = y # target vector\n",
        "\n",
        "print(A)\n",
        "print(b) # *pyth prints like row vector but treats as column vector\n",
        "\n",
        "# solve for coefficients\n",
        "output = np.linalg.lstsq(A, b, rcond = None) # calc. linear regression <- least squares\n",
        "theta = output[0]\n",
        "r = output[1]\n",
        "\n",
        "print('theta = ', theta)\n",
        "print('r = ', r)\n",
        "\n",
        "bpred = A@theta # calc. predicted y values using fitted line\n",
        "\n",
        "#visualize\n",
        "plt.plot(x,y,'o') # plot og data points\n",
        "plt.plot(x, bpred) # plot predicted data points\n",
        "plt.show() # display plot\n",
        "\n",
        "#sanity check\n",
        "#residuals = b - A@theta # calc. residuals\n",
        "#print('residuals =', residuals)\n"
      ],
      "metadata": {
        "colab": {
          "base_uri": "https://localhost:8080/",
          "height": 556
        },
        "id": "TNlrCl3V9tVr",
        "outputId": "96560151-c4a3-47a7-d210-e80f8fbcfd56"
      },
      "execution_count": 17,
      "outputs": [
        {
          "output_type": "stream",
          "name": "stdout",
          "text": [
            "[[1. 1.]\n",
            " [2. 1.]\n",
            " [3. 1.]\n",
            " [4. 1.]]\n",
            "[ 1.  4.  9. 16.]\n",
            "theta =  [ 5. -5.]\n",
            "r =  [4.]\n"
          ]
        },
        {
          "output_type": "display_data",
          "data": {
            "text/plain": [
              "<Figure size 640x480 with 1 Axes>"
            ],
            "image/png": "[encoded data removed]"
          },
          "metadata": {}
        }
      ]
    },
    {
      "cell_type": "code",
      "source": [],
      "metadata": {
        "id": "8MtFBpQ9-kcv"
      },
      "execution_count": null,
      "outputs": []
    }
  ]
}